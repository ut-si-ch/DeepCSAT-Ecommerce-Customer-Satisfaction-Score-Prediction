{
 "cells": [
  {
   "cell_type": "code",
   "execution_count": 1,
   "id": "822ade29-b4c7-4b01-9fdd-fa2cf7cb9ed7",
   "metadata": {},
   "outputs": [],
   "source": [
    "# ===============================\n",
    "# 1. Basic Imports\n",
    "# ===============================\n",
    "import numpy as np\n",
    "import pandas as pd\n",
    "import torch\n",
    "import torch.nn as nn\n",
    "import torch.optim as optim\n",
    "from torch.utils.data import DataLoader, Dataset, random_split\n",
    "\n",
    "# For scaling & encoding\n",
    "from sklearn.preprocessing import StandardScaler, LabelEncoder\n",
    "from sklearn.model_selection import train_test_split\n",
    "from sklearn.metrics import accuracy_score, classification_report, confusion_matrix\n",
    "\n",
    "# Reproducibility\n",
    "torch.manual_seed(42)\n",
    "np.random.seed(42)"
   ]
  },
  {
   "cell_type": "code",
   "execution_count": 2,
   "id": "5780533d-4b40-42fb-a6a7-3331eda7affa",
   "metadata": {},
   "outputs": [
    {
     "name": "stderr",
     "output_type": "stream",
     "text": [
      "C:\\Users\\uttam\\AppData\\Local\\Temp\\ipykernel_13020\\584317897.py:4: DtypeWarning: Columns (7,8) have mixed types. Specify dtype option on import or set low_memory=False.\n",
      "  df = pd.read_csv(\"../dataset/processed_deepcsat.csv\")\n"
     ]
    },
    {
     "name": "stdout",
     "output_type": "stream",
     "text": [
      "Data Loaded Successfully!\n",
      "(85907, 405)\n"
     ]
    },
    {
     "data": {
      "text/html": [
       "<div>\n",
       "<style scoped>\n",
       "    .dataframe tbody tr th:only-of-type {\n",
       "        vertical-align: middle;\n",
       "    }\n",
       "\n",
       "    .dataframe tbody tr th {\n",
       "        vertical-align: top;\n",
       "    }\n",
       "\n",
       "    .dataframe thead th {\n",
       "        text-align: right;\n",
       "    }\n",
       "</style>\n",
       "<table border=\"1\" class=\"dataframe\">\n",
       "  <thead>\n",
       "    <tr style=\"text-align: right;\">\n",
       "      <th></th>\n",
       "      <th>unique_id</th>\n",
       "      <th>channel_name</th>\n",
       "      <th>category</th>\n",
       "      <th>sub_category</th>\n",
       "      <th>customer_remarks</th>\n",
       "      <th>order_id</th>\n",
       "      <th>order_date_time</th>\n",
       "      <th>issue_reported_at</th>\n",
       "      <th>issue_responded</th>\n",
       "      <th>survey_response_date</th>\n",
       "      <th>...</th>\n",
       "      <th>embed_374</th>\n",
       "      <th>embed_375</th>\n",
       "      <th>embed_376</th>\n",
       "      <th>embed_377</th>\n",
       "      <th>embed_378</th>\n",
       "      <th>embed_379</th>\n",
       "      <th>embed_380</th>\n",
       "      <th>embed_381</th>\n",
       "      <th>embed_382</th>\n",
       "      <th>embed_383</th>\n",
       "    </tr>\n",
       "  </thead>\n",
       "  <tbody>\n",
       "    <tr>\n",
       "      <th>0</th>\n",
       "      <td>7e9ae164-6a8b-4521-a2d4-58f7c9fff13f</td>\n",
       "      <td>2</td>\n",
       "      <td>8</td>\n",
       "      <td>19</td>\n",
       "      <td>NaN</td>\n",
       "      <td>c27c9bb4-fa36-4140-9f1f-21009254ffdb</td>\n",
       "      <td>NaN</td>\n",
       "      <td>2023-01-08 11:13:00</td>\n",
       "      <td>2023-01-08 11:47:00</td>\n",
       "      <td>2023-08-01</td>\n",
       "      <td>...</td>\n",
       "      <td>0.107304</td>\n",
       "      <td>0.011428</td>\n",
       "      <td>0.013367</td>\n",
       "      <td>-0.012747</td>\n",
       "      <td>0.061454</td>\n",
       "      <td>0.035641</td>\n",
       "      <td>0.158746</td>\n",
       "      <td>0.126409</td>\n",
       "      <td>0.046549</td>\n",
       "      <td>-0.015717</td>\n",
       "    </tr>\n",
       "    <tr>\n",
       "      <th>1</th>\n",
       "      <td>b07ec1b0-f376-43b6-86df-ec03da3b2e16</td>\n",
       "      <td>2</td>\n",
       "      <td>8</td>\n",
       "      <td>34</td>\n",
       "      <td>NaN</td>\n",
       "      <td>d406b0c7-ce17-4654-b9de-f08d421254bd</td>\n",
       "      <td>NaN</td>\n",
       "      <td>2023-01-08 12:52:00</td>\n",
       "      <td>2023-01-08 12:54:00</td>\n",
       "      <td>2023-08-01</td>\n",
       "      <td>...</td>\n",
       "      <td>0.107304</td>\n",
       "      <td>0.011428</td>\n",
       "      <td>0.013367</td>\n",
       "      <td>-0.012747</td>\n",
       "      <td>0.061454</td>\n",
       "      <td>0.035641</td>\n",
       "      <td>0.158746</td>\n",
       "      <td>0.126409</td>\n",
       "      <td>0.046549</td>\n",
       "      <td>-0.015717</td>\n",
       "    </tr>\n",
       "    <tr>\n",
       "      <th>2</th>\n",
       "      <td>200814dd-27c7-4149-ba2b-bd3af3092880</td>\n",
       "      <td>1</td>\n",
       "      <td>5</td>\n",
       "      <td>15</td>\n",
       "      <td>NaN</td>\n",
       "      <td>c273368d-b961-44cb-beaf-62d6fd6c00d5</td>\n",
       "      <td>NaN</td>\n",
       "      <td>2023-01-08 20:16:00</td>\n",
       "      <td>2023-01-08 20:38:00</td>\n",
       "      <td>2023-08-01</td>\n",
       "      <td>...</td>\n",
       "      <td>0.107304</td>\n",
       "      <td>0.011428</td>\n",
       "      <td>0.013367</td>\n",
       "      <td>-0.012747</td>\n",
       "      <td>0.061454</td>\n",
       "      <td>0.035641</td>\n",
       "      <td>0.158746</td>\n",
       "      <td>0.126409</td>\n",
       "      <td>0.046549</td>\n",
       "      <td>-0.015717</td>\n",
       "    </tr>\n",
       "    <tr>\n",
       "      <th>3</th>\n",
       "      <td>eb0d3e53-c1ca-42d3-8486-e42c8d622135</td>\n",
       "      <td>1</td>\n",
       "      <td>10</td>\n",
       "      <td>40</td>\n",
       "      <td>NaN</td>\n",
       "      <td>5aed0059-55a4-4ec6-bb54-97942092020a</td>\n",
       "      <td>NaN</td>\n",
       "      <td>2023-01-08 20:56:00</td>\n",
       "      <td>2023-01-08 21:16:00</td>\n",
       "      <td>2023-08-01</td>\n",
       "      <td>...</td>\n",
       "      <td>0.107304</td>\n",
       "      <td>0.011428</td>\n",
       "      <td>0.013367</td>\n",
       "      <td>-0.012747</td>\n",
       "      <td>0.061454</td>\n",
       "      <td>0.035641</td>\n",
       "      <td>0.158746</td>\n",
       "      <td>0.126409</td>\n",
       "      <td>0.046549</td>\n",
       "      <td>-0.015717</td>\n",
       "    </tr>\n",
       "    <tr>\n",
       "      <th>4</th>\n",
       "      <td>ba903143-1e54-406c-b969-46c52f92e5df</td>\n",
       "      <td>1</td>\n",
       "      <td>1</td>\n",
       "      <td>22</td>\n",
       "      <td>NaN</td>\n",
       "      <td>e8bed5a9-6933-4aff-9dc6-ccefd7dcde59</td>\n",
       "      <td>NaN</td>\n",
       "      <td>2023-01-08 10:30:00</td>\n",
       "      <td>2023-01-08 10:32:00</td>\n",
       "      <td>2023-08-01</td>\n",
       "      <td>...</td>\n",
       "      <td>0.107304</td>\n",
       "      <td>0.011428</td>\n",
       "      <td>0.013367</td>\n",
       "      <td>-0.012747</td>\n",
       "      <td>0.061454</td>\n",
       "      <td>0.035641</td>\n",
       "      <td>0.158746</td>\n",
       "      <td>0.126409</td>\n",
       "      <td>0.046549</td>\n",
       "      <td>-0.015717</td>\n",
       "    </tr>\n",
       "  </tbody>\n",
       "</table>\n",
       "<p>5 rows × 405 columns</p>\n",
       "</div>"
      ],
      "text/plain": [
       "                              unique_id  channel_name  category  sub_category  \\\n",
       "0  7e9ae164-6a8b-4521-a2d4-58f7c9fff13f             2         8            19   \n",
       "1  b07ec1b0-f376-43b6-86df-ec03da3b2e16             2         8            34   \n",
       "2  200814dd-27c7-4149-ba2b-bd3af3092880             1         5            15   \n",
       "3  eb0d3e53-c1ca-42d3-8486-e42c8d622135             1        10            40   \n",
       "4  ba903143-1e54-406c-b969-46c52f92e5df             1         1            22   \n",
       "\n",
       "  customer_remarks                              order_id order_date_time  \\\n",
       "0              NaN  c27c9bb4-fa36-4140-9f1f-21009254ffdb             NaN   \n",
       "1              NaN  d406b0c7-ce17-4654-b9de-f08d421254bd             NaN   \n",
       "2              NaN  c273368d-b961-44cb-beaf-62d6fd6c00d5             NaN   \n",
       "3              NaN  5aed0059-55a4-4ec6-bb54-97942092020a             NaN   \n",
       "4              NaN  e8bed5a9-6933-4aff-9dc6-ccefd7dcde59             NaN   \n",
       "\n",
       "     issue_reported_at      issue_responded survey_response_date  ...  \\\n",
       "0  2023-01-08 11:13:00  2023-01-08 11:47:00           2023-08-01  ...   \n",
       "1  2023-01-08 12:52:00  2023-01-08 12:54:00           2023-08-01  ...   \n",
       "2  2023-01-08 20:16:00  2023-01-08 20:38:00           2023-08-01  ...   \n",
       "3  2023-01-08 20:56:00  2023-01-08 21:16:00           2023-08-01  ...   \n",
       "4  2023-01-08 10:30:00  2023-01-08 10:32:00           2023-08-01  ...   \n",
       "\n",
       "  embed_374 embed_375  embed_376  embed_377 embed_378 embed_379 embed_380  \\\n",
       "0  0.107304  0.011428   0.013367  -0.012747  0.061454  0.035641  0.158746   \n",
       "1  0.107304  0.011428   0.013367  -0.012747  0.061454  0.035641  0.158746   \n",
       "2  0.107304  0.011428   0.013367  -0.012747  0.061454  0.035641  0.158746   \n",
       "3  0.107304  0.011428   0.013367  -0.012747  0.061454  0.035641  0.158746   \n",
       "4  0.107304  0.011428   0.013367  -0.012747  0.061454  0.035641  0.158746   \n",
       "\n",
       "  embed_381  embed_382  embed_383  \n",
       "0  0.126409   0.046549  -0.015717  \n",
       "1  0.126409   0.046549  -0.015717  \n",
       "2  0.126409   0.046549  -0.015717  \n",
       "3  0.126409   0.046549  -0.015717  \n",
       "4  0.126409   0.046549  -0.015717  \n",
       "\n",
       "[5 rows x 405 columns]"
      ]
     },
     "metadata": {},
     "output_type": "display_data"
    },
    {
     "name": "stdout",
     "output_type": "stream",
     "text": [
      "<class 'pandas.core.frame.DataFrame'>\n",
      "RangeIndex: 85907 entries, 0 to 85906\n",
      "Columns: 405 entries, unique_id to embed_383\n",
      "dtypes: float64(387), int64(5), object(13)\n",
      "memory usage: 265.4+ MB\n"
     ]
    },
    {
     "data": {
      "text/plain": [
       "None"
      ]
     },
     "metadata": {},
     "output_type": "display_data"
    }
   ],
   "source": [
    "# ===============================\n",
    "# 2. Load Processed Dataset\n",
    "# ===============================\n",
    "df = pd.read_csv(\"../dataset/processed_deepcsat.csv\")\n",
    "\n",
    "print(\"Data Loaded Successfully!\")\n",
    "print(df.shape)\n",
    "display(df.head())\n",
    "display(df.info())"
   ]
  },
  {
   "cell_type": "code",
   "execution_count": 3,
   "id": "80dfba95-d91c-4c0e-9991-b020f5e7bd72",
   "metadata": {},
   "outputs": [
    {
     "name": "stdout",
     "output_type": "stream",
     "text": [
      " Missing value handling complete!\n",
      "order_id     18232\n",
      "unique_id        0\n",
      "embed_247        0\n",
      "embed_257        0\n",
      "embed_256        0\n",
      "embed_255        0\n",
      "embed_254        0\n",
      "embed_253        0\n",
      "embed_252        0\n",
      "embed_251        0\n",
      "dtype: int64\n"
     ]
    }
   ],
   "source": [
    "# ===============================\n",
    "# 3. Handle Missing Values\n",
    "# ===============================\n",
    "\n",
    "# Drop columns with excessive missingness (>70%)\n",
    "cols_to_drop = ['customer_city', 'product_category', 'order_date_time']\n",
    "df.drop(columns=cols_to_drop, inplace=True, errors='ignore')\n",
    "\n",
    "# Fill numeric missing values with median\n",
    "num_cols = ['item_price', 'response_delay_hrs']\n",
    "for col in num_cols:\n",
    "    if col in df.columns:\n",
    "        df[col] = df[col].fillna(df[col].median())\n",
    "\n",
    "# Fill text remarks with empty string (useful for future NLP embedding)\n",
    "if 'customer_remarks' in df.columns:\n",
    "    df['customer_remarks'] = df['customer_remarks'].fillna('')\n",
    "\n",
    "# Fix typo in column name if it exists\n",
    "df.rename(columns={'resposne_delay_hrs': 'response_delay_hrs'}, inplace=True)\n",
    "\n",
    "# Derive response delay in hours if timestamps are present\n",
    "if {'issue_responded', 'issue_reported_at'}.issubset(df.columns):\n",
    "    df['issue_responded'] = pd.to_datetime(df['issue_responded'], errors='coerce')\n",
    "    df['issue_reported_at'] = pd.to_datetime(df['issue_reported_at'], errors='coerce')\n",
    "    df['response_delay_hrs'] = (\n",
    "        (df['issue_responded'] - df['issue_reported_at']).dt.total_seconds() / 3600\n",
    "    )\n",
    "    df['response_delay_hrs'] = df['response_delay_hrs'].fillna(df['response_delay_hrs'].median())\n",
    "\n",
    "# Drop raw timestamp columns (redundant)\n",
    "df.drop(columns=['issue_responded', 'issue_reported_at'], inplace=True, errors='ignore')\n",
    "\n",
    "# Drop rows with missing target (CSAT)\n",
    "df = df.dropna(subset=[\"csat_score\"])\n",
    "\n",
    "print(\" Missing value handling complete!\")\n",
    "print(df.isna().sum().sort_values(ascending=False).head(10))"
   ]
  },
  {
   "cell_type": "code",
   "execution_count": null,
   "id": "497b243f-3f94-453d-890c-36ff9d34c749",
   "metadata": {},
   "outputs": [],
   "source": []
  },
  {
   "cell_type": "code",
   "execution_count": 4,
   "id": "459b4df7-c5dc-44a1-ab0c-12782fdb44f1",
   "metadata": {},
   "outputs": [],
   "source": [
    "# ===============================\n",
    "# 4. Feature/Target Split\n",
    "# ===============================\n",
    "df.drop(columns=[\"unique_id\", \"order_id\"], inplace=True, errors='ignore')\n",
    "\n",
    "X = df.drop(columns=[\"csat_score\"])\n",
    "y = df[\"csat_score\"]\n",
    "\n",
    "# Encode target if categorical\n",
    "label_encoder = LabelEncoder()\n",
    "y = label_encoder.fit_transform(y)"
   ]
  },
  {
   "cell_type": "code",
   "execution_count": 5,
   "id": "461eb038-3fa9-4df1-b929-f13b4ae8cedd",
   "metadata": {},
   "outputs": [],
   "source": [
    "# ===============================\n",
    "# 5. Train-Test Split\n",
    "# ===============================\n",
    "X_train, X_test, y_train, y_test = train_test_split(\n",
    "    X, y, test_size=0.2, random_state=42, stratify=y\n",
    ")"
   ]
  },
  {
   "cell_type": "code",
   "execution_count": 6,
   "id": "2c4be982-7b31-4226-af5c-ed9f79f4eec0",
   "metadata": {},
   "outputs": [
    {
     "name": "stdout",
     "output_type": "stream",
     "text": [
      "Scaling completed successfully!\n",
      "Scaled numeric features: ['channel_name', 'category', 'sub_category', 'item_price', 'connected_handling_time', 'agent_shift', 'response_delay_hrs', 'embed_0', 'embed_1', 'embed_2', 'embed_3', 'embed_4', 'embed_5', 'embed_6', 'embed_7', 'embed_8', 'embed_9', 'embed_10', 'embed_11', 'embed_12', 'embed_13', 'embed_14', 'embed_15', 'embed_16', 'embed_17', 'embed_18', 'embed_19', 'embed_20', 'embed_21', 'embed_22', 'embed_23', 'embed_24', 'embed_25', 'embed_26', 'embed_27', 'embed_28', 'embed_29', 'embed_30', 'embed_31', 'embed_32', 'embed_33', 'embed_34', 'embed_35', 'embed_36', 'embed_37', 'embed_38', 'embed_39', 'embed_40', 'embed_41', 'embed_42', 'embed_43', 'embed_44', 'embed_45', 'embed_46', 'embed_47', 'embed_48', 'embed_49', 'embed_50', 'embed_51', 'embed_52', 'embed_53', 'embed_54', 'embed_55', 'embed_56', 'embed_57', 'embed_58', 'embed_59', 'embed_60', 'embed_61', 'embed_62', 'embed_63', 'embed_64', 'embed_65', 'embed_66', 'embed_67', 'embed_68', 'embed_69', 'embed_70', 'embed_71', 'embed_72', 'embed_73', 'embed_74', 'embed_75', 'embed_76', 'embed_77', 'embed_78', 'embed_79', 'embed_80', 'embed_81', 'embed_82', 'embed_83', 'embed_84', 'embed_85', 'embed_86', 'embed_87', 'embed_88', 'embed_89', 'embed_90', 'embed_91', 'embed_92', 'embed_93', 'embed_94', 'embed_95', 'embed_96', 'embed_97', 'embed_98', 'embed_99', 'embed_100', 'embed_101', 'embed_102', 'embed_103', 'embed_104', 'embed_105', 'embed_106', 'embed_107', 'embed_108', 'embed_109', 'embed_110', 'embed_111', 'embed_112', 'embed_113', 'embed_114', 'embed_115', 'embed_116', 'embed_117', 'embed_118', 'embed_119', 'embed_120', 'embed_121', 'embed_122', 'embed_123', 'embed_124', 'embed_125', 'embed_126', 'embed_127', 'embed_128', 'embed_129', 'embed_130', 'embed_131', 'embed_132', 'embed_133', 'embed_134', 'embed_135', 'embed_136', 'embed_137', 'embed_138', 'embed_139', 'embed_140', 'embed_141', 'embed_142', 'embed_143', 'embed_144', 'embed_145', 'embed_146', 'embed_147', 'embed_148', 'embed_149', 'embed_150', 'embed_151', 'embed_152', 'embed_153', 'embed_154', 'embed_155', 'embed_156', 'embed_157', 'embed_158', 'embed_159', 'embed_160', 'embed_161', 'embed_162', 'embed_163', 'embed_164', 'embed_165', 'embed_166', 'embed_167', 'embed_168', 'embed_169', 'embed_170', 'embed_171', 'embed_172', 'embed_173', 'embed_174', 'embed_175', 'embed_176', 'embed_177', 'embed_178', 'embed_179', 'embed_180', 'embed_181', 'embed_182', 'embed_183', 'embed_184', 'embed_185', 'embed_186', 'embed_187', 'embed_188', 'embed_189', 'embed_190', 'embed_191', 'embed_192', 'embed_193', 'embed_194', 'embed_195', 'embed_196', 'embed_197', 'embed_198', 'embed_199', 'embed_200', 'embed_201', 'embed_202', 'embed_203', 'embed_204', 'embed_205', 'embed_206', 'embed_207', 'embed_208', 'embed_209', 'embed_210', 'embed_211', 'embed_212', 'embed_213', 'embed_214', 'embed_215', 'embed_216', 'embed_217', 'embed_218', 'embed_219', 'embed_220', 'embed_221', 'embed_222', 'embed_223', 'embed_224', 'embed_225', 'embed_226', 'embed_227', 'embed_228', 'embed_229', 'embed_230', 'embed_231', 'embed_232', 'embed_233', 'embed_234', 'embed_235', 'embed_236', 'embed_237', 'embed_238', 'embed_239', 'embed_240', 'embed_241', 'embed_242', 'embed_243', 'embed_244', 'embed_245', 'embed_246', 'embed_247', 'embed_248', 'embed_249', 'embed_250', 'embed_251', 'embed_252', 'embed_253', 'embed_254', 'embed_255', 'embed_256', 'embed_257', 'embed_258', 'embed_259', 'embed_260', 'embed_261', 'embed_262', 'embed_263', 'embed_264', 'embed_265', 'embed_266', 'embed_267', 'embed_268', 'embed_269', 'embed_270', 'embed_271', 'embed_272', 'embed_273', 'embed_274', 'embed_275', 'embed_276', 'embed_277', 'embed_278', 'embed_279', 'embed_280', 'embed_281', 'embed_282', 'embed_283', 'embed_284', 'embed_285', 'embed_286', 'embed_287', 'embed_288', 'embed_289', 'embed_290', 'embed_291', 'embed_292', 'embed_293', 'embed_294', 'embed_295', 'embed_296', 'embed_297', 'embed_298', 'embed_299', 'embed_300', 'embed_301', 'embed_302', 'embed_303', 'embed_304', 'embed_305', 'embed_306', 'embed_307', 'embed_308', 'embed_309', 'embed_310', 'embed_311', 'embed_312', 'embed_313', 'embed_314', 'embed_315', 'embed_316', 'embed_317', 'embed_318', 'embed_319', 'embed_320', 'embed_321', 'embed_322', 'embed_323', 'embed_324', 'embed_325', 'embed_326', 'embed_327', 'embed_328', 'embed_329', 'embed_330', 'embed_331', 'embed_332', 'embed_333', 'embed_334', 'embed_335', 'embed_336', 'embed_337', 'embed_338', 'embed_339', 'embed_340', 'embed_341', 'embed_342', 'embed_343', 'embed_344', 'embed_345', 'embed_346', 'embed_347', 'embed_348', 'embed_349', 'embed_350', 'embed_351', 'embed_352', 'embed_353', 'embed_354', 'embed_355', 'embed_356', 'embed_357', 'embed_358', 'embed_359', 'embed_360', 'embed_361', 'embed_362', 'embed_363', 'embed_364', 'embed_365', 'embed_366', 'embed_367', 'embed_368', 'embed_369', 'embed_370', 'embed_371', 'embed_372', 'embed_373', 'embed_374', 'embed_375', 'embed_376', 'embed_377', 'embed_378', 'embed_379', 'embed_380', 'embed_381', 'embed_382', 'embed_383']\n",
      "Final Train Shape: (68725, 397) | Test Shape: (17182, 397)\n"
     ]
    }
   ],
   "source": [
    "# ===============================\n",
    "# 6. Safe Scaling (Only Numeric Columns)\n",
    "# ===============================\n",
    "# Replace blank strings with NaN for safety\n",
    "X_train.replace('', np.nan, inplace=True)\n",
    "X_test.replace('', np.nan, inplace=True)\n",
    "\n",
    "# Identify numeric columns\n",
    "numeric_cols = X_train.select_dtypes(include=['int64', 'float64']).columns\n",
    "\n",
    "# Initialize scaler\n",
    "scaler = StandardScaler()\n",
    "\n",
    "# Copy before scaling\n",
    "X_train_scaled = X_train.copy()\n",
    "X_test_scaled = X_test.copy()\n",
    "\n",
    "# Scale only numeric columns\n",
    "X_train_scaled[numeric_cols] = scaler.fit_transform(X_train[numeric_cols])\n",
    "X_test_scaled[numeric_cols] = scaler.transform(X_test[numeric_cols])\n",
    "\n",
    "print(\"Scaling completed successfully!\")\n",
    "print(\"Scaled numeric features:\", list(numeric_cols))\n",
    "print(f\"Final Train Shape: {X_train_scaled.shape} | Test Shape: {X_test_scaled.shape}\")\n"
   ]
  },
  {
   "cell_type": "code",
   "execution_count": 17,
   "id": "f291e342-6da8-4703-9c36-4780002e6a97",
   "metadata": {},
   "outputs": [
    {
     "name": "stdout",
     "output_type": "stream",
     "text": [
      "Non-numeric columns remaining: []\n",
      " Encoding + Scaling done. Train shape: (68725, 397)\n"
     ]
    }
   ],
   "source": [
    "from sklearn.preprocessing import LabelEncoder, StandardScaler\n",
    "\n",
    "# Identify categorical and numeric columns\n",
    "categorical_cols = X.select_dtypes(include=['object']).columns.tolist()\n",
    "numeric_cols = X.select_dtypes(include=['int64', 'float64']).columns.tolist()\n",
    "\n",
    "# Label Encode categorical columns\n",
    "for col in categorical_cols:\n",
    "    le = LabelEncoder()\n",
    "    X[col] = le.fit_transform(X[col].astype(str))\n",
    "\n",
    "# Double-check all columns are numeric now\n",
    "print(\"Non-numeric columns remaining:\", X.select_dtypes(exclude=['number']).columns.tolist())\n",
    "\n",
    "# Recreate train-test split (after encoding)\n",
    "X_train, X_test, y_train, y_test = train_test_split(\n",
    "    X, y, test_size=0.2, random_state=42, stratify=y\n",
    ")\n",
    "\n",
    "# Apply StandardScaler only on numeric columns\n",
    "scaler = StandardScaler()\n",
    "X_train_scaled = pd.DataFrame(scaler.fit_transform(X_train), columns=X_train.columns)\n",
    "X_test_scaled = pd.DataFrame(scaler.transform(X_test), columns=X_test.columns)\n",
    "\n",
    "print(f\" Encoding + Scaling done. Train shape: {X_train_scaled.shape}\")\n"
   ]
  },
  {
   "cell_type": "code",
   "execution_count": null,
   "id": "41b94e54-314f-4798-b1f8-4e796473b18f",
   "metadata": {},
   "outputs": [],
   "source": []
  },
  {
   "cell_type": "markdown",
   "id": "98942f8e-197b-4fe5-a6c2-d65e0a1725ad",
   "metadata": {},
   "source": [
    "## PyTorch Training with Early Stopping + Curves"
   ]
  },
  {
   "cell_type": "code",
   "execution_count": 18,
   "id": "0db230ba-d634-484c-9ed7-5156e33b3419",
   "metadata": {},
   "outputs": [],
   "source": [
    "# ===============================\n",
    "#  Import dependencies\n",
    "# ===============================\n",
    "import torch\n",
    "import torch.nn as nn\n",
    "from torch.utils.data import Dataset, DataLoader\n",
    "from sklearn.metrics import classification_report, accuracy_score"
   ]
  },
  {
   "cell_type": "code",
   "execution_count": 19,
   "id": "d01f48b3-0402-49ed-9aca-0916f1ab8f34",
   "metadata": {},
   "outputs": [],
   "source": [
    "# ===============================\n",
    "#  Define Custom Dataset\n",
    "# ===============================\n",
    "class DeepCSATDataset(Dataset):\n",
    "    def __init__(self, X, y):\n",
    "        self.X = torch.tensor(X.values, dtype=torch.float32)\n",
    "        self.y = torch.tensor(y, dtype=torch.long)\n",
    "        \n",
    "    def __len__(self):\n",
    "        return len(self.X)\n",
    "    \n",
    "    def __getitem__(self, idx):\n",
    "        return self.X[idx], self.y[idx]"
   ]
  },
  {
   "cell_type": "code",
   "execution_count": 20,
   "id": "aebf64c6-3243-439c-9f45-a46558cb987c",
   "metadata": {},
   "outputs": [
    {
     "data": {
      "text/plain": [
       "<torch._C.Generator at 0x178cb60f850>"
      ]
     },
     "execution_count": 20,
     "metadata": {},
     "output_type": "execute_result"
    }
   ],
   "source": [
    "# Ensure reproducibility\n",
    "torch.manual_seed(42)"
   ]
  },
  {
   "cell_type": "code",
   "execution_count": 27,
   "id": "1bf95ac5-9e5c-488d-b1d8-b1a4990a1200",
   "metadata": {},
   "outputs": [],
   "source": [
    "# Create dataset objects\n",
    "train_dataset = DeepCSATDataset(X_train_scaled, y_train)\n",
    "test_dataset = DeepCSATDataset(X_test_scaled, y_test)\n",
    "\n",
    "# Dataloaders\n",
    "train_loader = DataLoader(train_dataset, batch_size=64, shuffle=True)\n",
    "test_loader = DataLoader(test_dataset, batch_size=64, shuffle=False)"
   ]
  },
  {
   "cell_type": "code",
   "execution_count": 34,
   "id": "a1fb6fe5-c3a6-4471-ab1d-68a701519ff6",
   "metadata": {},
   "outputs": [],
   "source": [
    "output_dim = len(unique_labels)  # dynamically detect number of classes\n",
    "\n",
    "class DeepCSATModel(nn.Module):\n",
    "    def __init__(self, input_dim, hidden_dim1=256, hidden_dim2=128, output_dim=output_dim, dropout=0.3):\n",
    "        super(DeepCSATModel, self).__init__()\n",
    "        self.fc1 = nn.Linear(input_dim, hidden_dim1)\n",
    "        self.bn1 = nn.BatchNorm1d(hidden_dim1)\n",
    "        self.fc2 = nn.Linear(hidden_dim1, hidden_dim2)\n",
    "        self.bn2 = nn.BatchNorm1d(hidden_dim2)\n",
    "        self.fc3 = nn.Linear(hidden_dim2, output_dim)\n",
    "        self.relu = nn.ReLU()\n",
    "        self.dropout = nn.Dropout(dropout)\n",
    "        \n",
    "    def forward(self, x):\n",
    "        x = self.relu(self.bn1(self.fc1(x)))\n",
    "        x = self.dropout(x)\n",
    "        x = self.relu(self.bn2(self.fc2(x)))\n",
    "        x = self.dropout(x)\n",
    "        x = self.fc3(x)\n",
    "        return x"
   ]
  },
  {
   "cell_type": "code",
   "execution_count": 29,
   "id": "61efb95b-4101-4fc5-a451-915e445fe42a",
   "metadata": {},
   "outputs": [
    {
     "name": "stdout",
     "output_type": "stream",
     "text": [
      "Using device: cpu\n"
     ]
    }
   ],
   "source": [
    "# ===============================\n",
    "# Setup Model, Loss, Optimizer\n",
    "# ===============================\n",
    "device = torch.device(\"cuda\" if torch.cuda.is_available() else \"cpu\")\n",
    "print(f\"Using device: {device}\")"
   ]
  },
  {
   "cell_type": "code",
   "execution_count": 35,
   "id": "5a58c443-8f22-4a19-b7af-99af3cb4508e",
   "metadata": {},
   "outputs": [],
   "source": [
    "input_dim = X_train_scaled.shape[1]\n",
    "model = DeepCSATModel(input_dim=input_dim, output_dim=len(unique_labels)).to(device)\n",
    "\n",
    "criterion = nn.CrossEntropyLoss()\n",
    "optimizer = optim.Adam(model.parameters(), lr=0.001)"
   ]
  },
  {
   "cell_type": "code",
   "execution_count": 31,
   "id": "7e0f7c3a-c5e9-4307-951e-c72e4e796f4b",
   "metadata": {},
   "outputs": [],
   "source": [
    "# ===============================\n",
    "# Training Loop (with Early Stopping)\n",
    "# ===============================\n",
    "\n",
    "def train_model_with_early_stopping(model, train_loader, test_loader, criterion, optimizer, device, \n",
    "                                   epochs=30, patience=5):\n",
    "    train_losses, val_losses = [], []\n",
    "    best_val_loss = float('inf')\n",
    "    best_model_state = None\n",
    "    patience_counter = 0\n",
    "    start_time = time.time()\n",
    "\n",
    "    for epoch in range(epochs):\n",
    "        model.train()\n",
    "        running_loss, correct, total = 0.0, 0, 0\n",
    "\n",
    "        for X_batch, y_batch in train_loader:\n",
    "            X_batch, y_batch = X_batch.to(device), y_batch.to(device)\n",
    "\n",
    "            optimizer.zero_grad()\n",
    "            outputs = model(X_batch)\n",
    "            loss = criterion(outputs, y_batch)\n",
    "            loss.backward()\n",
    "            optimizer.step()\n",
    "\n",
    "            running_loss += loss.item()\n",
    "            _, predicted = torch.max(outputs, 1)\n",
    "            correct += (predicted == y_batch).sum().item()\n",
    "            total += y_batch.size(0)\n",
    "\n",
    "        train_acc = 100 * correct / total\n",
    "        avg_train_loss = running_loss / len(train_loader)\n",
    "\n",
    "        # Validation phase\n",
    "        model.eval()\n",
    "        val_loss, correct_val, total_val = 0.0, 0, 0\n",
    "        with torch.no_grad():\n",
    "            for X_val, y_val in test_loader:\n",
    "                X_val, y_val = X_val.to(device), y_val.to(device)\n",
    "                outputs = model(X_val)\n",
    "                loss = criterion(outputs, y_val)\n",
    "                val_loss += loss.item()\n",
    "                _, predicted = torch.max(outputs, 1)\n",
    "                correct_val += (predicted == y_val).sum().item()\n",
    "                total_val += y_val.size(0)\n",
    "\n",
    "        avg_val_loss = val_loss / len(test_loader)\n",
    "        val_acc = 100 * correct_val / total_val\n",
    "\n",
    "        train_losses.append(avg_train_loss)\n",
    "        val_losses.append(avg_val_loss)\n",
    "\n",
    "        print(f\"Epoch [{epoch+1}/{epochs}] | \"\n",
    "              f\"Train Loss: {avg_train_loss:.4f} | Val Loss: {avg_val_loss:.4f} | \"\n",
    "              f\"Train Acc: {train_acc:.2f}% | Val Acc: {val_acc:.2f}%\")\n",
    "\n",
    "        # Early Stopping Check\n",
    "        if avg_val_loss < best_val_loss:\n",
    "            best_val_loss = avg_val_loss\n",
    "            best_model_state = model.state_dict()\n",
    "            patience_counter = 0\n",
    "        else:\n",
    "            patience_counter += 1\n",
    "            if patience_counter >= patience:\n",
    "                print(f\"Early stopping triggered at epoch {epoch+1}\")\n",
    "                break\n",
    "\n",
    "    end_time = time.time()\n",
    "    print(f\"\\n⏱ Training completed in {(end_time - start_time)/60:.2f} minutes.\")\n",
    "\n",
    "    # Load best model weights\n",
    "    if best_model_state:\n",
    "        model.load_state_dict(best_model_state)\n",
    "        print(\"Best model restored.\")\n",
    "\n",
    "    return model, train_losses, val_losses"
   ]
  },
  {
   "cell_type": "code",
   "execution_count": 36,
   "id": "eae8962e-84f3-4165-9283-e7bbf253a924",
   "metadata": {},
   "outputs": [
    {
     "name": "stdout",
     "output_type": "stream",
     "text": [
      "Epoch [1/30] | Train Loss: 0.8956 | Val Loss: 0.8589 | Train Acc: 71.65% | Val Acc: 72.45%\n",
      "Epoch [2/30] | Train Loss: 0.8692 | Val Loss: 0.8589 | Train Acc: 72.49% | Val Acc: 72.56%\n",
      "Epoch [3/30] | Train Loss: 0.8647 | Val Loss: 0.8576 | Train Acc: 72.54% | Val Acc: 72.63%\n",
      "Epoch [4/30] | Train Loss: 0.8585 | Val Loss: 0.8603 | Train Acc: 72.79% | Val Acc: 72.73%\n",
      "Epoch [5/30] | Train Loss: 0.8548 | Val Loss: 0.8548 | Train Acc: 72.80% | Val Acc: 72.68%\n",
      "Epoch [6/30] | Train Loss: 0.8503 | Val Loss: 0.8556 | Train Acc: 73.00% | Val Acc: 72.62%\n",
      "Epoch [7/30] | Train Loss: 0.8475 | Val Loss: 0.8533 | Train Acc: 73.05% | Val Acc: 72.61%\n",
      "Epoch [8/30] | Train Loss: 0.8427 | Val Loss: 0.8571 | Train Acc: 73.20% | Val Acc: 72.75%\n",
      "Epoch [9/30] | Train Loss: 0.8398 | Val Loss: 0.8593 | Train Acc: 73.25% | Val Acc: 72.74%\n",
      "Epoch [10/30] | Train Loss: 0.8353 | Val Loss: 0.8567 | Train Acc: 73.41% | Val Acc: 72.71%\n",
      "Epoch [11/30] | Train Loss: 0.8323 | Val Loss: 0.8589 | Train Acc: 73.48% | Val Acc: 72.71%\n",
      "Epoch [12/30] | Train Loss: 0.8289 | Val Loss: 0.8573 | Train Acc: 73.54% | Val Acc: 72.77%\n",
      "Early stopping triggered at epoch 12\n",
      "\n",
      "⏱ Training completed in 2.00 minutes.\n",
      "Best model restored.\n"
     ]
    }
   ],
   "source": [
    "# Train the model with early stopping\n",
    "model, train_losses, val_losses = train_model_with_early_stopping(\n",
    "    model, train_loader, test_loader, criterion, optimizer, device, epochs=30, patience=5\n",
    ")"
   ]
  },
  {
   "cell_type": "code",
   "execution_count": 33,
   "id": "0b0e0b1b-872c-4064-a298-cb1c9de0884f",
   "metadata": {},
   "outputs": [
    {
     "name": "stdout",
     "output_type": "stream",
     "text": [
      "Unique labels in training set: [0 1 2 3 4]\n",
      "Number of unique labels: 5\n"
     ]
    }
   ],
   "source": [
    "import numpy as np\n",
    "\n",
    "unique_labels = np.unique(y_train)\n",
    "print(\"Unique labels in training set:\", unique_labels)\n",
    "print(\"Number of unique labels:\", len(unique_labels))\n"
   ]
  },
  {
   "cell_type": "code",
   "execution_count": 37,
   "id": "c7035b64-6003-4157-a3c1-65659af369e3",
   "metadata": {},
   "outputs": [
    {
     "data": {
      "image/png": "[encoded data removed]",
      "text/plain": [
       "<Figure size 800x500 with 1 Axes>"
      ]
     },
     "metadata": {},
     "output_type": "display_data"
    }
   ],
   "source": [
    "import matplotlib.pyplot as plt\n",
    "\n",
    "plt.figure(figsize=(8,5))\n",
    "plt.plot(train_losses, label='Train Loss')\n",
    "plt.plot(val_losses, label='Validation Loss')\n",
    "plt.xlabel('Epoch')\n",
    "plt.ylabel('Loss')\n",
    "plt.title('Training vs Validation Loss Curve')\n",
    "plt.legend()\n",
    "plt.grid(True)\n",
    "plt.show()\n"
   ]
  },
  {
   "cell_type": "code",
   "execution_count": 39,
   "id": "0712d7ef-cfb6-4a10-9b81-22030022d652",
   "metadata": {},
   "outputs": [
    {
     "name": "stdout",
     "output_type": "stream",
     "text": [
      "Test Accuracy: 72.77383308113141 %\n",
      "\n",
      "Classification Report:\n",
      "              precision    recall  f1-score   support\n",
      "\n",
      "           1       0.66      0.37      0.48      2246\n",
      "           2       0.00      0.00      0.00       256\n",
      "           3       0.00      0.00      0.00       512\n",
      "           4       0.00      0.00      0.00      2244\n",
      "           5       0.73      0.98      0.84     11924\n",
      "\n",
      "    accuracy                           0.73     17182\n",
      "   macro avg       0.28      0.27      0.26     17182\n",
      "weighted avg       0.60      0.73      0.64     17182\n",
      "\n",
      "\n",
      "Confusion Matrix:\n",
      "[[  834     0     0     0  1412]\n",
      " [   38     0     0     0   218]\n",
      " [   48     0     0     0   464]\n",
      " [   82     0     0     0  2162]\n",
      " [  254     0     0     0 11670]]\n"
     ]
    }
   ],
   "source": [
    "# Switch to evaluation mode\n",
    "model.eval()\n",
    "y_pred = []\n",
    "\n",
    "with torch.no_grad():\n",
    "    for X_batch, _ in test_loader:\n",
    "        X_batch = X_batch.to(device)\n",
    "        outputs = model(X_batch)\n",
    "        _, preds = torch.max(outputs, 1)\n",
    "        y_pred.extend(preds.cpu().numpy())\n",
    "\n",
    "# Convert to numpy arrays\n",
    "y_true = y_test  # original test labels\n",
    "\n",
    "# Evaluate\n",
    "print(\"Test Accuracy:\", accuracy_score(y_true, y_pred) * 100, \"%\")\n",
    "print(\"\\nClassification Report:\")\n",
    "target_names = [str(cls) for cls in label_encoder.classes_]\n",
    "print(classification_report(y_true, y_pred, target_names=target_names, zero_division=0))\n",
    "\n",
    "print(\"\\nConfusion Matrix:\")\n",
    "print(confusion_matrix(y_true, y_pred))\n"
   ]
  },
  {
   "cell_type": "code",
   "execution_count": 40,
   "id": "a36845cc-bb11-4e84-b356-e611fd4d35da",
   "metadata": {},
   "outputs": [
    {
     "name": "stdout",
     "output_type": "stream",
     "text": [
      "Model weights saved as deepcsat_ann_model.pth\n"
     ]
    }
   ],
   "source": [
    "torch.save(model.state_dict(), \"deepcsat_ann_model.pth\")\n",
    "print(\"Model weights saved as deepcsat_ann_model.pth\")"
   ]
  },
  {
   "cell_type": "code",
   "execution_count": 41,
   "id": "03a836c3-127d-42be-90d6-10c29de0286e",
   "metadata": {},
   "outputs": [
    {
     "name": "stdout",
     "output_type": "stream",
     "text": [
      "Scaler and Label Encoder saved!\n"
     ]
    }
   ],
   "source": [
    "import joblib\n",
    "\n",
    "joblib.dump(scaler, \"scaler.pkl\")\n",
    "joblib.dump(label_encoder, \"label_encoder.pkl\")\n",
    "print(\"Scaler and Label Encoder saved!\")"
   ]
  },
  {
   "cell_type": "markdown",
   "id": "298f4be3-11ca-449a-8d4b-5545ccba7753",
   "metadata": {},
   "source": [
    "## Analyze Class Distribution"
   ]
  },
  {
   "cell_type": "code",
   "execution_count": 42,
   "id": "ea904bd4-e1cf-4980-80d2-ab29cd1ac2f1",
   "metadata": {},
   "outputs": [
    {
     "data": {
      "image/png": "[encoded data removed]",
      "text/plain": [
       "<Figure size 640x480 with 1 Axes>"
      ]
     },
     "metadata": {},
     "output_type": "display_data"
    }
   ],
   "source": [
    "import matplotlib.pyplot as plt\n",
    "\n",
    "y_counts = pd.Series(y).value_counts().sort_index()\n",
    "plt.bar(y_counts.index, y_counts.values)\n",
    "plt.xlabel(\"CSAT Score\")\n",
    "plt.ylabel(\"Count\")\n",
    "plt.title(\"Distribution of CSAT Classes\")\n",
    "plt.show()"
   ]
  },
  {
   "cell_type": "markdown",
   "id": "4c2d4293-64bf-4376-8289-4b4f8e20ed6b",
   "metadata": {},
   "source": [
    "## Introduce Class Weights"
   ]
  },
  {
   "cell_type": "code",
   "execution_count": 43,
   "id": "adee5c61-ea98-45ba-ac31-e6d812168be4",
   "metadata": {},
   "outputs": [],
   "source": [
    "from sklearn.utils.class_weight import compute_class_weight\n",
    "\n",
    "classes = np.unique(y_train)\n",
    "class_weights = compute_class_weight('balanced', classes=classes, y=y_train)\n",
    "class_weights = torch.tensor(class_weights, dtype=torch.float32).to(device)\n",
    "\n",
    "criterion = nn.CrossEntropyLoss(weight=class_weights)"
   ]
  },
  {
   "cell_type": "markdown",
   "id": "8a30b4a7-a9cb-4d18-b214-3b556531a0fb",
   "metadata": {},
   "source": [
    "## Data-Level Fix"
   ]
  },
  {
   "cell_type": "raw",
   "id": "bd0cfa44-663a-4a86-9838-7b7de1e23c86",
   "metadata": {},
   "source": [
    "from imblearn.over_sampling import RandomOverSampler\n",
    "\n",
    "ros = RandomOverSampler(random_state=42)\n",
    "X_resampled, y_resampled = ros.fit_resample(X_train_scaled, y_train)"
   ]
  },
  {
   "cell_type": "code",
   "execution_count": 45,
   "id": "ee70fa7c-4d7e-4d3d-a941-a426bf5b6407",
   "metadata": {},
   "outputs": [
    {
     "name": "stdout",
     "output_type": "stream",
     "text": [
      "Class Weights: tensor([ 1.5299, 13.3836,  6.7180,  1.5315,  0.2882])\n"
     ]
    }
   ],
   "source": [
    "# ============================================\n",
    "#  Balanced Training with Early Stopping\n",
    "# ============================================\n",
    "\n",
    "from sklearn.utils.class_weight import compute_class_weight\n",
    "\n",
    "# Compute class weights inversely proportional to class frequencies\n",
    "classes = np.unique(y_train)\n",
    "class_weights = compute_class_weight(class_weight='balanced', classes=classes, y=y_train)\n",
    "\n",
    "# Convert weights to a torch tensor and move to device\n",
    "class_weights = torch.tensor(class_weights, dtype=torch.float32).to(device)\n",
    "print(\"Class Weights:\", class_weights)\n",
    "\n",
    "# Define weighted loss\n",
    "criterion = nn.CrossEntropyLoss(weight=class_weights)"
   ]
  },
  {
   "cell_type": "code",
   "execution_count": 47,
   "id": "c3e4249f-274e-4fab-8581-a31e795e082b",
   "metadata": {},
   "outputs": [],
   "source": [
    "import torch\n",
    "import torch.nn as nn\n",
    "import torch.nn.functional as F\n",
    "\n",
    "class DeepCSATNet(nn.Module):\n",
    "    def __init__(self, input_dim, hidden_dim=256, output_dim=5):\n",
    "        super(DeepCSATNet, self).__init__()\n",
    "\n",
    "        self.fc1 = nn.Linear(input_dim, hidden_dim)\n",
    "        self.bn1 = nn.BatchNorm1d(hidden_dim)\n",
    "        self.drop1 = nn.Dropout(0.3)\n",
    "\n",
    "        self.fc2 = nn.Linear(hidden_dim, hidden_dim // 2)\n",
    "        self.bn2 = nn.BatchNorm1d(hidden_dim // 2)\n",
    "        self.drop2 = nn.Dropout(0.3)\n",
    "\n",
    "        self.fc3 = nn.Linear(hidden_dim // 2, output_dim)\n",
    "\n",
    "    def forward(self, x):\n",
    "        x = F.relu(self.bn1(self.fc1(x)))\n",
    "        x = self.drop1(x)\n",
    "        x = F.relu(self.bn2(self.fc2(x)))\n",
    "        x = self.drop2(x)\n",
    "        x = self.fc3(x)\n",
    "        return x"
   ]
  },
  {
   "cell_type": "code",
   "execution_count": 48,
   "id": "ff222f7d-a572-482e-a3c2-6fa2948ff773",
   "metadata": {},
   "outputs": [],
   "source": [
    "# Recreate model and optimizer\n",
    "model = DeepCSATNet(input_dim=X_train_scaled.shape[1], hidden_dim=256, output_dim=len(classes))\n",
    "model.to(device)\n",
    "\n",
    "optimizer = optim.Adam(model.parameters(), lr=0.001, weight_decay=1e-5)"
   ]
  },
  {
   "cell_type": "code",
   "execution_count": 50,
   "id": "95977e55-1b83-4585-a3bd-f7ff4712d0f6",
   "metadata": {},
   "outputs": [],
   "source": [
    "# -----------------------------------------------------\n",
    "# Training with early stopping (same as before)\n",
    "# -----------------------------------------------------\n",
    "\n",
    "def train_model_with_early_stopping(model, train_loader, val_loader, criterion, optimizer, device, epochs=30, patience=5):\n",
    "    best_val_loss = float('inf')\n",
    "    patience_counter = 0\n",
    "\n",
    "    train_losses, val_losses = [], []\n",
    "\n",
    "    for epoch in range(epochs):\n",
    "        model.train()\n",
    "        total_loss, correct, total = 0, 0, 0\n",
    "\n",
    "        for X_batch, y_batch in train_loader:\n",
    "            X_batch, y_batch = X_batch.to(device), y_batch.to(device)\n",
    "\n",
    "            optimizer.zero_grad()\n",
    "            outputs = model(X_batch)\n",
    "            loss = criterion(outputs, y_batch)\n",
    "            loss.backward()\n",
    "            optimizer.step()\n",
    "\n",
    "            total_loss += loss.item()\n",
    "            _, predicted = torch.max(outputs, 1)\n",
    "            correct += (predicted == y_batch).sum().item()\n",
    "            total += y_batch.size(0)\n",
    "\n",
    "        train_acc = 100 * correct / total\n",
    "        train_loss = total_loss / len(train_loader)\n",
    "        train_losses.append(train_loss)\n",
    "\n",
    "        # Validation phase\n",
    "        model.eval()\n",
    "        val_loss, val_correct, val_total = 0, 0, 0\n",
    "        with torch.no_grad():\n",
    "            for X_batch, y_batch in val_loader:\n",
    "                X_batch, y_batch = X_batch.to(device), y_batch.to(device)\n",
    "                outputs = model(X_batch)\n",
    "                loss = criterion(outputs, y_batch)\n",
    "                val_loss += loss.item()\n",
    "                _, predicted = torch.max(outputs, 1)\n",
    "                val_correct += (predicted == y_batch).sum().item()\n",
    "                val_total += y_batch.size(0)\n",
    "\n",
    "        val_acc = 100 * val_correct / val_total\n",
    "        val_loss /= len(val_loader)\n",
    "        val_losses.append(val_loss)\n",
    "\n",
    "        print(f\"Epoch [{epoch+1}/{epochs}] | \"\n",
    "              f\"Train Loss: {train_loss:.4f} | Val Loss: {val_loss:.4f} | \"\n",
    "              f\"Train Acc: {train_acc:.2f}% | Val Acc: {val_acc:.2f}%\")\n",
    "\n",
    "        # Early stopping condition\n",
    "        if val_loss < best_val_loss:\n",
    "            best_val_loss = val_loss\n",
    "            patience_counter = 0\n",
    "            torch.save(model.state_dict(), \"best_model_balanced.pth\")\n",
    "        else:\n",
    "            patience_counter += 1\n",
    "            if patience_counter >= patience:\n",
    "                print(f\"Early stopping triggered at epoch {epoch+1}\")\n",
    "                break\n",
    "\n",
    "    # Restore best model\n",
    "    model.load_state_dict(torch.load(\"best_model_balanced.pth\"))\n",
    "    return model, train_losses, val_losses"
   ]
  },
  {
   "cell_type": "code",
   "execution_count": 51,
   "id": "110bc2ca-80f3-4637-bf66-d667c04a65ae",
   "metadata": {},
   "outputs": [
    {
     "name": "stdout",
     "output_type": "stream",
     "text": [
      "Epoch [1/30] | Train Loss: 1.5127 | Val Loss: 1.5125 | Train Acc: 35.50% | Val Acc: 44.84%\n",
      "Epoch [2/30] | Train Loss: 1.5025 | Val Loss: 1.5111 | Train Acc: 34.95% | Val Acc: 31.67%\n",
      "Epoch [3/30] | Train Loss: 1.4934 | Val Loss: 1.5152 | Train Acc: 32.97% | Val Acc: 33.04%\n",
      "Epoch [4/30] | Train Loss: 1.4925 | Val Loss: 1.5095 | Train Acc: 32.57% | Val Acc: 32.39%\n",
      "Epoch [5/30] | Train Loss: 1.4796 | Val Loss: 1.5159 | Train Acc: 34.20% | Val Acc: 30.71%\n",
      "Epoch [6/30] | Train Loss: 1.4776 | Val Loss: 1.5218 | Train Acc: 32.26% | Val Acc: 32.26%\n",
      "Epoch [7/30] | Train Loss: 1.4630 | Val Loss: 1.5320 | Train Acc: 33.25% | Val Acc: 31.82%\n",
      "Epoch [8/30] | Train Loss: 1.4551 | Val Loss: 1.5468 | Train Acc: 33.60% | Val Acc: 30.03%\n",
      "Epoch [9/30] | Train Loss: 1.4471 | Val Loss: 1.5554 | Train Acc: 33.57% | Val Acc: 41.79%\n",
      "Early stopping triggered at epoch 9\n"
     ]
    }
   ],
   "source": [
    "# ============================================\n",
    "# Train with balanced loss\n",
    "# ============================================\n",
    "model, train_losses, val_losses = train_model_with_early_stopping(\n",
    "    model, train_loader, test_loader, criterion, optimizer, device,\n",
    "    epochs=30, patience=5\n",
    ")"
   ]
  },
  {
   "cell_type": "code",
   "execution_count": null,
   "id": "37ab9222-2f6c-49d4-a461-578ad0fdb438",
   "metadata": {},
   "outputs": [],
   "source": []
  },
  {
   "cell_type": "code",
   "execution_count": null,
   "id": "e64f54e4-603a-46df-8867-827b9dea4582",
   "metadata": {},
   "outputs": [],
   "source": []
  },
  {
   "cell_type": "markdown",
   "id": "dd4a86d5-a440-470f-a7b9-5f92aeddc8e0",
   "metadata": {},
   "source": [
    "## Streamlit Code"
   ]
  },
  {
   "cell_type": "code",
   "execution_count": 60,
   "id": "b31fa0dd-e773-42da-ac12-37ccaa06c0a2",
   "metadata": {},
   "outputs": [
    {
     "name": "stdout",
     "output_type": "stream",
     "text": [
      "Overwriting app.py\n"
     ]
    }
   ],
   "source": [
    "%%writefile app.py\n",
    "import streamlit as st\n",
    "import torch\n",
    "import torch.nn as nn\n",
    "import numpy as np\n",
    "import pandas as pd\n",
    "import pickle\n",
    "import joblib\n",
    "\n",
    "# ------------------------------\n",
    "# 1. Load Pretrained Components\n",
    "# ------------------------------\n",
    "@st.cache_resource\n",
    "def load_model_and_utils():\n",
    "    model = DeepCSATNet(input_dim=397, hidden_dim=256, output_dim=5)\n",
    "    model.load_state_dict(torch.load(\"best_model_balanced.pth\", map_location=torch.device(\"cpu\")))\n",
    "    model.eval()\n",
    "\n",
    "    scaler = joblib.load(\"scaler.pkl\")\n",
    "    label_encoder = joblib.load(\"label_encoder.pkl\")\n",
    "    return model, scaler, label_encoder\n",
    "\n",
    "# ------------------------------\n",
    "# 2. Define Model Architecture\n",
    "# ------------------------------\n",
    "class DeepCSATNet(nn.Module):\n",
    "    def __init__(self, input_dim, hidden_dim, output_dim):\n",
    "        super(DeepCSATNet, self).__init__()\n",
    "        self.fc1 = nn.Linear(input_dim, hidden_dim)\n",
    "        self.bn1 = nn.BatchNorm1d(hidden_dim)\n",
    "        self.fc2 = nn.Linear(hidden_dim, hidden_dim // 2)\n",
    "        self.bn2 = nn.BatchNorm1d(hidden_dim // 2)\n",
    "        self.fc3 = nn.Linear(hidden_dim // 2, output_dim)\n",
    "        self.dropout = nn.Dropout(0.3)\n",
    "        self.relu = nn.ReLU()\n",
    "\n",
    "    def forward(self, x):\n",
    "        x = self.relu(self.bn1(self.fc1(x)))\n",
    "        x = self.dropout(x)\n",
    "        x = self.relu(self.bn2(self.fc2(x)))\n",
    "        x = self.dropout(x)\n",
    "        x = self.fc3(x)\n",
    "        return x\n",
    "\n",
    "\n",
    "# ------------------------------\n",
    "# 3. Streamlit Page Config\n",
    "# ------------------------------\n",
    "st.set_page_config(\n",
    "    page_title=\"DeepCSAT v1\",\n",
    "    page_icon=\"🤖\",\n",
    "    layout=\"centered\"\n",
    ")\n",
    "st.title(\"DeepCSAT v1 – Ecommerce Customer Satisfaction Prediction\")\n",
    "st.write(\"Baseline MLP Model trained on ecommerce support interactions.\")\n",
    "\n",
    "\n",
    "# ------------------------------\n",
    "# 4. Load Model + Utilities\n",
    "# ------------------------------\n",
    "model, scaler, label_encoder = load_model_and_utils()\n",
    "\n",
    "\n",
    "# ------------------------------\n",
    "# 5. User Input Section\n",
    "# ------------------------------\n",
    "st.subheader(\"Enter Customer Interaction Details\")\n",
    "\n",
    "# Example input fields – adjust as per your dataset\n",
    "channel_name = st.selectbox(\"Channel\", [\"Chat\", \"Email\", \"Voice\", \"Social\"])\n",
    "category = st.selectbox(\"Category\", [\"Delivery\", \"Product Issue\", \"Payment\", \"Others\"])\n",
    "sub_category = st.text_input(\"Sub-Category (optional)\", \"NA\")\n",
    "item_price = st.number_input(\"Item Price\", min_value=0.0, value=500.0, step=10.0)\n",
    "response_delay_hrs = st.number_input(\"Response Delay (hrs)\", min_value=0.0, value=2.5, step=0.1)\n",
    "agent_shift = st.selectbox(\"Agent Shift\", [\"Morning\", \"Evening\", \"Night\"])\n",
    "remarks = st.text_area(\"Customer Remarks\", \"The delivery was delayed but resolved quickly.\")\n",
    "\n",
    "# You can extend with more fields if necessary.\n",
    "\n",
    "\n",
    "# ------------------------------\n",
    "# 6. Feature Vector Preparation\n",
    "# ------------------------------\n",
    "def prepare_input():\n",
    "    # Dummy example — normally you’d one-hot encode or embed text\n",
    "    # Here we assume embeddings already handled during training.\n",
    "    input_data = np.zeros((1, 397))  # Match your training feature size\n",
    "    input_data[0, 0] = 1 if channel_name == \"Chat\" else 0\n",
    "    input_data[0, 1] = 1 if category == \"Delivery\" else 0\n",
    "    input_data[0, 2] = item_price\n",
    "    input_data[0, 3] = response_delay_hrs\n",
    "    # ... (other dummy encodings, or real preprocessing logic)\n",
    "\n",
    "    scaled = scaler.transform(input_data)\n",
    "    return torch.tensor(scaled, dtype=torch.float32)\n",
    "\n",
    "\n",
    "# ------------------------------\n",
    "# 7. Prediction Logic\n",
    "# ------------------------------\n",
    "if st.button(\"Predict CSAT Score\"):\n",
    "    with st.spinner(\"Analyzing interaction...\"):\n",
    "        X_input = prepare_input()\n",
    "        with torch.no_grad():\n",
    "            output = model(X_input)\n",
    "            probs = torch.softmax(output, dim=1).numpy()[0]\n",
    "            pred_class = np.argmax(probs)\n",
    "            pred_label = label_encoder.inverse_transform([pred_class])[0]\n",
    "\n",
    "        st.success(f\"Predicted CSAT Score: **{pred_label}** 🌟\")\n",
    "        st.progress(int(probs[pred_class] * 100))\n",
    "        st.write(f\"Confidence: {probs[pred_class]*100:.2f}%\")\n",
    "\n",
    "        # Optional: show probability distribution\n",
    "        st.subheader(\"Class Probabilities\")\n",
    "        prob_df = pd.DataFrame({\n",
    "            \"CSAT Class\": label_encoder.classes_,\n",
    "            \"Probability\": probs\n",
    "        })\n",
    "        st.bar_chart(prob_df.set_index(\"CSAT Class\"))\n",
    "\n",
    "st.markdown(\"---\")\n",
    "st.caption(\"Version: DeepCSAT v1 | Model: best_model_balanced.pth | Framework: PyTorch\")"
   ]
  },
  {
   "cell_type": "code",
   "execution_count": 56,
   "id": "1e6f0b7c-03d7-4360-a944-3475d7d352a7",
   "metadata": {},
   "outputs": [
    {
     "name": "stdout",
     "output_type": "stream",
     "text": [
      "^C\n"
     ]
    }
   ],
   "source": [
    "!streamlit run app.py "
   ]
  },
  {
   "cell_type": "code",
   "execution_count": null,
   "id": "3a85c7ee-dbef-4ac2-b46f-f145266abaf8",
   "metadata": {},
   "outputs": [],
   "source": []
  }
 ],
 "metadata": {
  "kernelspec": {
   "display_name": "Python (deepcsat)",
   "language": "python",
   "name": "deepcsat"
  },
  "language_info": {
   "codemirror_mode": {
    "name": "ipython",
    "version": 3
   },
   "file_extension": ".py",
   "mimetype": "text/x-python",
   "name": "python",
   "nbconvert_exporter": "python",
   "pygments_lexer": "ipython3",
   "version": "3.10.18"
  }
 },
 "nbformat": 4,
 "nbformat_minor": 5
}
