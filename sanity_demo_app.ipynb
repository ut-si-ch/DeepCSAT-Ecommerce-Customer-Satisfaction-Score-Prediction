{
 "cells": [
  {
   "cell_type": "code",
   "execution_count": 2,
   "id": "8fb515af-1c01-44e9-be8a-6d498436cfff",
   "metadata": {},
   "outputs": [
    {
     "name": "stdout",
     "output_type": "stream",
     "text": [
      "Writing sanity_check_streamlit.py\n"
     ]
    }
   ],
   "source": [
    "%%writefile sanity_check_streamlit.py\n",
    "import streamlit as st\n",
    "import numpy as np\n",
    "import pandas as pd\n",
    "import tensorflow as tf\n",
    "import torch\n",
    "import transformers\n",
    "\n",
    "st.title(\"✅ Streamlit Environment Test for DeepCSAT\")\n",
    "\n",
    "st.write(\"This app verifies that all ML/DL dependencies install correctly on Streamlit Cloud.\")\n",
    "\n",
    "st.subheader(\"📦 Package Versions\")\n",
    "st.write({\n",
    "    \"streamlit\": st.__version__,\n",
    "    \"tensorflow\": tf.__version__,\n",
    "    \"torch\": torch.__version__,\n",
    "    \"transformers\": transformers.__version__,\n",
    "    \"numpy\": np.__version__,\n",
    "    \"pandas\": pd.__version__\n",
    "})\n",
    "\n",
    "st.success(\"🎉 All core libraries imported successfully!\")\n"
   ]
  },
  {
   "cell_type": "code",
   "execution_count": null,
   "id": "fd642a11-8e8e-475f-9b4a-46b778ccf332",
   "metadata": {},
   "outputs": [],
   "source": [
    "! streamlit run  sanity_check_streamlit.py"
   ]
  },
  {
   "cell_type": "code",
   "execution_count": null,
   "id": "8162956e-32ed-4c9e-8cbb-de49dd32a3ee",
   "metadata": {},
   "outputs": [],
   "source": []
  }
 ],
 "metadata": {
  "kernelspec": {
   "display_name": "deepcsat (venv)",
   "language": "python",
   "name": "deepcsat"
  },
  "language_info": {
   "codemirror_mode": {
    "name": "ipython",
    "version": 3
   },
   "file_extension": ".py",
   "mimetype": "text/x-python",
   "name": "python",
   "nbconvert_exporter": "python",
   "pygments_lexer": "ipython3",
   "version": "3.10.18"
  }
 },
 "nbformat": 4,
 "nbformat_minor": 5
}
